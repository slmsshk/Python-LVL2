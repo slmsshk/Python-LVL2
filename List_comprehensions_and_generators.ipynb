{
  "nbformat": 4,
  "nbformat_minor": 0,
  "metadata": {
    "colab": {
      "provenance": [],
      "collapsed_sections": [],
      "include_colab_link": true
    },
    "kernelspec": {
      "name": "python3",
      "display_name": "Python 3"
    },
    "accelerator": "GPU"
  },
  "cells": [
    {
      "cell_type": "markdown",
      "metadata": {
        "id": "view-in-github",
        "colab_type": "text"
      },
      "source": [
        "<a href=\"https://colab.research.google.com/github/slmsshk/Python-LVL2/blob/main/List_comprehensions_and_generators.ipynb\" target=\"_parent\"><img src=\"https://colab.research.google.com/assets/colab-badge.svg\" alt=\"Open In Colab\"/></a>"
      ]
    },
    {
      "cell_type": "markdown",
      "metadata": {
        "id": "84JKA5MQuyPl"
      },
      "source": [
        "## List Comprehensions"
      ]
    },
    {
      "cell_type": "markdown",
      "metadata": {
        "id": "N59YFzDPnqVG"
      },
      "source": [
        "List comprehensions are not limited to only lists. <br>We can write a list comprehension on any iterable, such as range() and tuples and even dictionaries.\n",
        "<br>List comprehensions collapse for loops for building lists into a single line.<br>We can also use list comprehnsions in place of nested for loops."
      ]
    },
    {
      "cell_type": "markdown",
      "metadata": {
        "id": "ZlgD4XQcoUnz"
      },
      "source": [
        "Components of a list comprehension are:\n",
        "\n",
        "1. An iterable<br>\n",
        "2. An iterator variable(representing members of an iterable)<br>\n",
        "3. Output Expression"
      ]
    },
    {
      "cell_type": "markdown",
      "metadata": {
        "id": "jPlukJ_ypY61"
      },
      "source": [
        "### Using a list comprehension instead of a nested for loop"
      ]
    },
    {
      "cell_type": "code",
      "metadata": {
        "id": "zeqGAMOanI2_",
        "outputId": "10ad8daf-7d34-4403-8ed5-66207ce254f3",
        "colab": {
          "base_uri": "https://localhost:8080/"
        }
      },
      "source": [
        "# Lets write a nested for loop to append a tuple of numbers to a list\n",
        "# first initialise an empty list\n",
        "list1 = []\n",
        "for num1 in range(0,2):\n",
        "    for num2 in range(2,4):\n",
        "        # now append num1 and num2 in tuples respectively to list1\n",
        "        list1.append((num1, num2))\n",
        "# show the updated list\n",
        "list1"
      ],
      "execution_count": 1,
      "outputs": [
        {
          "output_type": "execute_result",
          "data": {
            "text/plain": [
              "[(0, 2), (0, 3), (1, 2), (1, 3)]"
            ]
          },
          "metadata": {},
          "execution_count": 1
        }
      ]
    },
    {
      "cell_type": "markdown",
      "metadata": {
        "id": "T__H2vxUqorb"
      },
      "source": [
        "Lets do above nested for loops using a list comprehension"
      ]
    },
    {
      "cell_type": "code",
      "metadata": {
        "id": "7_46lWISquOW",
        "outputId": "2f6f5eab-a0c5-4c04-f57a-a10167305b2f",
        "colab": {
          "base_uri": "https://localhost:8080/"
        }
      },
      "source": [
        "list2 = [(num1, num2) for num1 in range(0,2) for num2 in range(2,4)]\n",
        "# show list2\n",
        "list2"
      ],
      "execution_count": 3,
      "outputs": [
        {
          "output_type": "execute_result",
          "data": {
            "text/plain": [
              "[(0, 2), (0, 3), (1, 2), (1, 3)]"
            ]
          },
          "metadata": {},
          "execution_count": 3
        }
      ]
    },
    {
      "cell_type": "markdown",
      "metadata": {
        "id": "183gmf0jrvSm"
      },
      "source": [
        "Ex 1."
      ]
    },
    {
      "cell_type": "code",
      "metadata": {
        "id": "NWDgN4Frrwgc"
      },
      "source": [
        "doctor = ['house', 'cuddy', 'chase', 'thirteen', 'wilson']\n",
        "\n",
        "# How would a list comprehension that produces a list of the first character \n",
        "# of each string in doctor look like? Note that the list comprehension, \n",
        "# uses doc as the iterator variable. What will the output be?"
      ],
      "execution_count": null,
      "outputs": []
    },
    {
      "cell_type": "code",
      "metadata": {
        "id": "Y5ctARjgsAQr",
        "outputId": "17cf3db1-22f1-410b-e122-13c1ae644767",
        "colab": {
          "base_uri": "https://localhost:8080/",
          "height": 34
        }
      },
      "source": [
        "# It would look like this:\n",
        "x = [doc[0] for doc in doctor]\n",
        "x"
      ],
      "execution_count": null,
      "outputs": [
        {
          "output_type": "execute_result",
          "data": {
            "text/plain": [
              "['h', 'c', 'c', 't', 'w']"
            ]
          },
          "metadata": {
            "tags": []
          },
          "execution_count": 21
        }
      ]
    },
    {
      "cell_type": "markdown",
      "metadata": {
        "id": "TPJPzToxskuz"
      },
      "source": [
        "list comprehensions can be built over iterables. <br>Given the following objects below, which of these can we build list comprehensions over?"
      ]
    },
    {
      "cell_type": "code",
      "metadata": {
        "id": "K65SohexsmvN"
      },
      "source": [
        "doctor = ['house', 'cuddy', 'chase', 'thirteen', 'wilson']\n",
        "\n",
        "range(50)\n",
        "\n",
        "underwood = 'After all, we are nothing more or less than what we choose to reveal.'\n",
        "\n",
        "jean = '24601'\n",
        "\n",
        "flash = ['jay garrick', 'barry allen', 'wally west', 'bart allen']\n",
        "\n",
        "valjean = 24601"
      ],
      "execution_count": null,
      "outputs": []
    },
    {
      "cell_type": "markdown",
      "metadata": {
        "id": "Cnhpn2Vds6bw"
      },
      "source": [
        "ANS: List comprehensions can be built on all options above except the integer variable valjean."
      ]
    },
    {
      "cell_type": "code",
      "metadata": {
        "id": "ry9JRFsrtDTA",
        "outputId": "361e089d-c888-4687-b76d-410b0cb76feb",
        "colab": {
          "base_uri": "https://localhost:8080/",
          "height": 34
        }
      },
      "source": [
        "# Using the range of numbers from 0 to 9 as your iterable and i as your iterator variable, \n",
        "# write a list comprehension that produces a list of numbers consisting of the squared values of i.\n",
        "\n",
        "squares = [i**2 for i in range(0,10)]\n",
        "squares"
      ],
      "execution_count": null,
      "outputs": [
        {
          "output_type": "execute_result",
          "data": {
            "text/plain": [
              "[0, 1, 4, 9, 16, 25, 36, 49, 64, 81]"
            ]
          },
          "metadata": {
            "tags": []
          },
          "execution_count": 23
        }
      ]
    },
    {
      "cell_type": "markdown",
      "metadata": {
        "id": "RyTk2cG1u4kE"
      },
      "source": [
        "### Nested List Comprehensions"
      ]
    },
    {
      "cell_type": "markdown",
      "metadata": {
        "id": "lkiNyzRpvYJu"
      },
      "source": [
        "In python, a matrix is simply a list of nested lists, just like a numpy array.<br>\n",
        "To create a nested list comprehension, we simply pass one list comprehension,<br> as the output expression of the overall list comprehension. For example:-\n",
        "\n",
        "```\n",
        "[[output expression] for iterator variable in iterable]\n",
        "```\n",
        "Note that here, the output expression is itself a list comprehension."
      ]
    },
    {
      "cell_type": "markdown",
      "metadata": {
        "id": "WvepYgfoxBn2"
      },
      "source": [
        "Instructions\n",
        "\n",
        "100 XP<br>\n",
        "In the inner list comprehension - that is, the output expression of the nested list comprehension - create a list of values from 0 to 4 using range(). Use col as the iterator variable.\n",
        "\n",
        "In the iterable part of your nested list comprehension, use range() to count 5 rows - that is, create a list of values from 0 to 4. Use row as the iterator variable; note that you won't be needing this to create values in the list of lists."
      ]
    },
    {
      "cell_type": "code",
      "metadata": {
        "id": "vSpCMV1Xu8tt",
        "outputId": "ff3018d1-b234-457f-9bce-f4794b55cb22",
        "colab": {
          "base_uri": "https://localhost:8080/",
          "height": 101
        }
      },
      "source": [
        "# Create a 5 x 5 matrix using a list of lists: matrix\n",
        "matrix = [[col for col in range(5)] for row in range(5)]\n",
        "matrix"
      ],
      "execution_count": null,
      "outputs": [
        {
          "output_type": "execute_result",
          "data": {
            "text/plain": [
              "[[0, 1, 2, 3, 4],\n",
              " [0, 1, 2, 3, 4],\n",
              " [0, 1, 2, 3, 4],\n",
              " [0, 1, 2, 3, 4],\n",
              " [0, 1, 2, 3, 4]]"
            ]
          },
          "metadata": {
            "tags": []
          },
          "execution_count": 24
        }
      ]
    },
    {
      "cell_type": "code",
      "metadata": {
        "id": "ygcN_wGTxjH6",
        "outputId": "6ab8c037-67d9-43d1-e288-d4decb2f3920",
        "colab": {
          "base_uri": "https://localhost:8080/",
          "height": 101
        }
      },
      "source": [
        "# Print the matrix\n",
        "for row in matrix:\n",
        "    print(row)"
      ],
      "execution_count": null,
      "outputs": [
        {
          "output_type": "stream",
          "text": [
            "[0, 1, 2, 3, 4]\n",
            "[0, 1, 2, 3, 4]\n",
            "[0, 1, 2, 3, 4]\n",
            "[0, 1, 2, 3, 4]\n",
            "[0, 1, 2, 3, 4]\n"
          ],
          "name": "stdout"
        }
      ]
    },
    {
      "cell_type": "markdown",
      "metadata": {
        "id": "zur66Am45u5D"
      },
      "source": [
        "### Advanced Comprehensions"
      ]
    },
    {
      "cell_type": "markdown",
      "metadata": {
        "id": "bTzwUWFm5zmG"
      },
      "source": [
        "**1. Conditionals in Comprehensions**"
      ]
    },
    {
      "cell_type": "markdown",
      "metadata": {
        "id": "4yI6GWLc_TAI"
      },
      "source": [
        "you can apply a conditional statement to test the iterator variable by adding an if statement in the optional predicate expression part after the for statement in the comprehension:\n",
        "\n",
        "```\n",
        "[ output expression for iterator variable in iterable if predicate expression ]\n",
        "```"
      ]
    },
    {
      "cell_type": "markdown",
      "metadata": {
        "id": "SbHxQmB6A-aE"
      },
      "source": [
        "Note:\n",
        "\n",
        "1. if statement alone is used in the predicate expression area of the list comprehension, which is after the iterable<br>\n",
        "2. if-else statements are used on the output expression part of the list comprehension"
      ]
    },
    {
      "cell_type": "code",
      "metadata": {
        "id": "hzsI50-a5_hr",
        "outputId": "7bd800d2-4afb-433d-fd51-d464b3339967",
        "colab": {
          "base_uri": "https://localhost:8080/",
          "height": 34
        }
      },
      "source": [
        "# using conditionals on the iterable\n",
        "# Here we want to square only even numbers between o and 12\n",
        "[num**2 for num in range(12) if num % 2 == 0]"
      ],
      "execution_count": null,
      "outputs": [
        {
          "output_type": "execute_result",
          "data": {
            "text/plain": [
              "[0, 4, 16, 36, 64, 100]"
            ]
          },
          "metadata": {
            "tags": []
          },
          "execution_count": 26
        }
      ]
    },
    {
      "cell_type": "code",
      "metadata": {
        "id": "X9LrAjIZ7Ig3",
        "outputId": "60d06f39-979b-44b1-ee1f-d437f7ed1e5c",
        "colab": {
          "base_uri": "https://localhost:8080/",
          "height": 34
        }
      },
      "source": [
        "# Here we want to square the even numbers only and output 0 for the odd numbers\n",
        "# For numbers between 0 and 12\n",
        "[num**2 if num % 2 == 0 else 0 for num in range(12)]"
      ],
      "execution_count": null,
      "outputs": [
        {
          "output_type": "execute_result",
          "data": {
            "text/plain": [
              "[0, 0, 4, 0, 16, 0, 36, 0, 64, 0, 100, 0]"
            ]
          },
          "metadata": {
            "tags": []
          },
          "execution_count": 27
        }
      ]
    },
    {
      "cell_type": "code",
      "metadata": {
        "id": "2252GoUZ7v_R",
        "outputId": "112334a6-faad-405b-fd7c-5bb5edca193f",
        "colab": {
          "base_uri": "https://localhost:8080/",
          "height": 218
        }
      },
      "source": [
        "# Here we want to output even or odd\n",
        "# for respective numbers between 0 and 12\n",
        "['Even' if num % 2 == 0 else 'Odd' for num in range(12)]"
      ],
      "execution_count": null,
      "outputs": [
        {
          "output_type": "execute_result",
          "data": {
            "text/plain": [
              "['Even',\n",
              " 'Odd',\n",
              " 'Even',\n",
              " 'Odd',\n",
              " 'Even',\n",
              " 'Odd',\n",
              " 'Even',\n",
              " 'Odd',\n",
              " 'Even',\n",
              " 'Odd',\n",
              " 'Even',\n",
              " 'Odd']"
            ]
          },
          "metadata": {
            "tags": []
          },
          "execution_count": 28
        }
      ]
    },
    {
      "cell_type": "code",
      "metadata": {
        "id": "QAlnhBYn8q8m",
        "outputId": "5929c6f3-7da5-4e6f-ffe6-aa2a66833fbf",
        "colab": {
          "base_uri": "https://localhost:8080/",
          "height": 218
        }
      },
      "source": [
        "# Here we want to output the number and whether it is even or odd\n",
        "# For numbers between 0 and 12\n",
        "[str(num) + ' is Even' if num % 2 == 0 else str(num) + ' is Odd' for num in range(12)]"
      ],
      "execution_count": null,
      "outputs": [
        {
          "output_type": "execute_result",
          "data": {
            "text/plain": [
              "['0 is Even',\n",
              " '1 is Odd',\n",
              " '2 is Even',\n",
              " '3 is Odd',\n",
              " '4 is Even',\n",
              " '5 is Odd',\n",
              " '6 is Even',\n",
              " '7 is Odd',\n",
              " '8 is Even',\n",
              " '9 is Odd',\n",
              " '10 is Even',\n",
              " '11 is Odd']"
            ]
          },
          "metadata": {
            "tags": []
          },
          "execution_count": 29
        }
      ]
    },
    {
      "cell_type": "code",
      "metadata": {
        "id": "mUz_TJha_w1x"
      },
      "source": [
        "# Create a list of strings: fellowship\n",
        "fellowship = ['frodo', 'samwise', 'merry', 'aragorn', 'legolas', 'boromir', 'gimli']"
      ],
      "execution_count": null,
      "outputs": []
    },
    {
      "cell_type": "code",
      "metadata": {
        "id": "rsztILtf_6TF",
        "outputId": "cf7240f9-0888-498e-9935-5bf9ea14cf30",
        "colab": {
          "base_uri": "https://localhost:8080/",
          "height": 34
        }
      },
      "source": [
        "# create a list that only includes the members of fellowship that have 7 characters or more.\n",
        "# Use member as the iterator variable in the list comprehension. \n",
        "# For the conditional, use len() to evaluate the iterator variable\n",
        "\n",
        "new_fellowship = [member for member in fellowship if len(member) >= 7]\n",
        "new_fellowship"
      ],
      "execution_count": null,
      "outputs": [
        {
          "output_type": "execute_result",
          "data": {
            "text/plain": [
              "['samwise', 'aragorn', 'legolas', 'boromir']"
            ]
          },
          "metadata": {
            "tags": []
          },
          "execution_count": 31
        }
      ]
    },
    {
      "cell_type": "code",
      "metadata": {
        "id": "VL4bZdGNBlcC",
        "outputId": "6a62eded-e392-44c2-9b8a-f3eb3dc056c9",
        "colab": {
          "base_uri": "https://localhost:8080/",
          "height": 34
        }
      },
      "source": [
        "# Let's write the above list comprehension, but this time:-\n",
        "# we'd keep members with more than 7 characters and replace the rest with empty string.\n",
        "# We shall use an if-else statement on the output expression of the list comp.\n",
        "\n",
        "new_fellowship = [member if len(member) >= 7 else '' for member in fellowship]\n",
        "new_fellowship"
      ],
      "execution_count": null,
      "outputs": [
        {
          "output_type": "execute_result",
          "data": {
            "text/plain": [
              "['', 'samwise', '', 'aragorn', 'legolas', 'boromir', '']"
            ]
          },
          "metadata": {
            "tags": []
          },
          "execution_count": 32
        }
      ]
    },
    {
      "cell_type": "markdown",
      "metadata": {
        "id": "vZP6k5vr9RPL"
      },
      "source": [
        "**2. Dictionary Comprehensions**\n",
        "\n",
        "Comprehensions aren't relegated merely to the world of lists. There are many other objects you can build using comprehensions, such as dictionaries, pervasive objects in Data Science. \n",
        "\n",
        "For dict comprehensions the diffrences are:-<br.\n",
        "\n",
        "1. We use curly braces instead of square brackets<br>\n",
        "2. The Key and Value are separated by a colon in the output expression\n",
        "\n",
        "members of the dictionary are created using a colon :, as in <key> : <value>."
      ]
    },
    {
      "cell_type": "code",
      "metadata": {
        "id": "UjCDXLN39VKw"
      },
      "source": [
        "# You are given a list of strings fellowship and, using a dict comprehension, \n",
        "# create a dictionary with the members of the list as the keys and \n",
        "# the length of each string as the corresponding values.\n",
        "\n",
        "# Create a list of strings: fellowship\n",
        "fellowship = ['frodo', 'samwise', 'merry', 'aragorn', 'legolas', 'boromir', 'gimli']"
      ],
      "execution_count": null,
      "outputs": []
    },
    {
      "cell_type": "code",
      "metadata": {
        "id": "bkCOkeYhDHEg",
        "outputId": "9ae87c04-34ca-40d7-f837-d3e3e92c5500",
        "colab": {
          "base_uri": "https://localhost:8080/",
          "height": 134
        }
      },
      "source": [
        "# Create a dict comprehension where the key is a string in fellowship and the value is the length of the string\n",
        "\n",
        "new_fellowship = {member:len(member) for member in fellowship}\n",
        "new_fellowship"
      ],
      "execution_count": null,
      "outputs": [
        {
          "output_type": "execute_result",
          "data": {
            "text/plain": [
              "{'aragorn': 7,\n",
              " 'boromir': 7,\n",
              " 'frodo': 5,\n",
              " 'gimli': 5,\n",
              " 'legolas': 7,\n",
              " 'merry': 5,\n",
              " 'samwise': 7}"
            ]
          },
          "metadata": {
            "tags": []
          },
          "execution_count": 34
        }
      ]
    },
    {
      "cell_type": "markdown",
      "metadata": {
        "id": "RemV-H7kEkFQ"
      },
      "source": [
        "## Introduction to Generator Expressions:"
      ]
    },
    {
      "cell_type": "markdown",
      "metadata": {
        "id": "HbA6OID9lcP4"
      },
      "source": [
        "Well, a generator is like a list comprehension, except it does not store the list in memory. <br>It does not construct the list, but is an object we can iterate over to produce elements of the list as required.<br>\n",
        "We can also pass a generator to the function list() to create a list.<br>And like any other iterator, we can pass a generator to the function next() to get its next element.<br>This is called a lazy evaluation.<br>Unlike list comps, generators are written within round brackets and not square brackets."
      ]
    },
    {
      "cell_type": "markdown",
      "metadata": {
        "id": "EvNO6g-mnl2w"
      },
      "source": [
        "Generators can be very useful for iterating through very large range of numbers. It does not store or construct a list of these numbers, but can be used to produce the next elements of this range of numbers using the next() function.<br>For example imagine trying to output the positive integers from 0 to 10 to the power of 1000000\n",
        "```\n",
        "[num for num in range(0, 10**1000000) if num % 2 == 0]\n",
        "```\n",
        "Such a memory intensive computation will definitely crash or adversely affect our computer memory with a list comprehension.<br>But with a generator we can easily output these numbers since we don't actually store them in any list anywhere."
      ]
    },
    {
      "cell_type": "markdown",
      "metadata": {
        "id": "vOVcQu3HqIAx"
      },
      "source": [
        "What's really cool is that anything we can do on a list comp such as filtering and applying conditionals, can be done in a generator too."
      ]
    },
    {
      "cell_type": "markdown",
      "metadata": {
        "id": "jzX0jEJbqZyK"
      },
      "source": [
        "### Generator Functions:\n",
        "\n",
        "Generator functions are functions that when called, produce generator objects.<br>They are like any other python functions, but instead of using the keyword <em>return<em>, generator functions use the key word <em>yield<em>"
      ]
    },
    {
      "cell_type": "code",
      "metadata": {
        "id": "3say0ejmmBGt"
      },
      "source": [
        "# List of strings\n",
        "fellowship = ['frodo', 'samwise', 'merry', 'aragorn', 'legolas', 'boromir', 'gimli']\n",
        "\n",
        "# List comprehension\n",
        "fellow1 = [member for member in fellowship if len(member) >= 7]\n",
        "\n",
        "# Generator expression\n",
        "fellow2 = (member for member in fellowship if len(member) >= 7)"
      ],
      "execution_count": null,
      "outputs": []
    },
    {
      "cell_type": "markdown",
      "metadata": {
        "id": "o96rNYzdvYoO"
      },
      "source": [
        "Recall that generator expressions basically have the same syntax as list comprehensions, except that it uses parentheses () instead of brackets []; this should make things feel familiar! Furthermore, if you have ever iterated over a dictionary with .items(), or used the range() function, for example, you have already encountered and used generators before, without knowing it! When you use these functions, Python creates generators for you behind the scenes."
      ]
    },
    {
      "cell_type": "code",
      "metadata": {
        "id": "I6ifZvyLvd2s"
      },
      "source": [
        "# Create a generator object that will produce values from 0 to 30. \n",
        "# Assign the result to result and use num as the iterator variable in the generator expression.\n",
        "\n",
        "result = (num for num in range(31))"
      ],
      "execution_count": null,
      "outputs": []
    },
    {
      "cell_type": "code",
      "metadata": {
        "id": "D68ivLmBv7QI",
        "outputId": "ad279cc7-6bea-4816-aa98-14da2b77a10d",
        "colab": {
          "base_uri": "https://localhost:8080/",
          "height": 101
        }
      },
      "source": [
        "# Print the first 5 values by using next() appropriately in print().\n",
        "\n",
        "for i in range(5):\n",
        "    print(next(result))"
      ],
      "execution_count": null,
      "outputs": [
        {
          "output_type": "stream",
          "text": [
            "0\n",
            "1\n",
            "2\n",
            "3\n",
            "4\n"
          ],
          "name": "stdout"
        }
      ]
    },
    {
      "cell_type": "code",
      "metadata": {
        "id": "vIWrcGtFwG4B"
      },
      "source": [
        "# Print the rest of the values by using a for loop to iterate over the generator object.\n",
        "for i in result:\n",
        "    print(i)"
      ],
      "execution_count": null,
      "outputs": []
    },
    {
      "cell_type": "code",
      "metadata": {
        "id": "7g34ek7BxvOe",
        "outputId": "a1a86df5-6e34-43b9-98ed-c0cefd6207ab",
        "colab": {
          "base_uri": "https://localhost:8080/",
          "height": 34
        }
      },
      "source": [
        "lannister = ['cersei', 'jaime', 'tywin', 'tyrion', 'joffrey']\n",
        "\n",
        "# Write a generator expression that will generate the lengths of each string \n",
        "# in lannister. Use person as the iterator variable. Assign the result to lengths.\n",
        "\n",
        "lengths = (len(person) for person in lannister)\n",
        "lengths"
      ],
      "execution_count": null,
      "outputs": [
        {
          "output_type": "execute_result",
          "data": {
            "text/plain": [
              "<generator object <genexpr> at 0x7f487a79ff10>"
            ]
          },
          "metadata": {
            "tags": []
          },
          "execution_count": 54
        }
      ]
    },
    {
      "cell_type": "code",
      "metadata": {
        "id": "TzTZcqlryZjz",
        "outputId": "fa30ceb3-8983-43d6-abd2-f6b856a3af45",
        "colab": {
          "base_uri": "https://localhost:8080/",
          "height": 101
        }
      },
      "source": [
        "# Let's print out\n",
        "for value in lengths:\n",
        "    print(value)"
      ],
      "execution_count": null,
      "outputs": [
        {
          "output_type": "stream",
          "text": [
            "6\n",
            "5\n",
            "5\n",
            "6\n",
            "7\n"
          ],
          "name": "stdout"
        }
      ]
    },
    {
      "cell_type": "markdown",
      "metadata": {
        "id": "-5eby6l_y6oz"
      },
      "source": [
        "Defining a generator function"
      ]
    },
    {
      "cell_type": "code",
      "metadata": {
        "id": "K7avok1Yy9L5"
      },
      "source": [
        "def get_lengths(input_list):\n",
        "    \"\"\"Generator function that yields the\n",
        "    length of the strings in input_list.\"\"\"\n",
        "\n",
        "    for person in input_list:\n",
        "        yield(len(person))"
      ],
      "execution_count": null,
      "outputs": []
    },
    {
      "cell_type": "code",
      "metadata": {
        "id": "v7fd0wYHztqF",
        "outputId": "41b28b98-b214-487a-cde4-de014c40a407",
        "colab": {
          "base_uri": "https://localhost:8080/",
          "height": 101
        }
      },
      "source": [
        "for value in get_lengths(lannister):\n",
        "    print(value)"
      ],
      "execution_count": null,
      "outputs": [
        {
          "output_type": "stream",
          "text": [
            "6\n",
            "5\n",
            "5\n",
            "6\n",
            "7\n"
          ],
          "name": "stdout"
        }
      ]
    }
  ]
}